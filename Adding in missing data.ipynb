{
 "cells": [
  {
   "cell_type": "code",
   "execution_count": 415,
   "metadata": {},
   "outputs": [],
   "source": [
    "import pandas as pd\n",
    "import numpy as np\n",
    "import matplotlib.pyplot as plt\n",
    "import random"
   ]
  },
  {
   "cell_type": "code",
   "execution_count": 416,
   "metadata": {},
   "outputs": [],
   "source": [
    "df = pd.read_csv('data/2014_-_9_Anonymous_Clipper.csv')"
   ]
  },
  {
   "cell_type": "code",
   "execution_count": 417,
   "metadata": {},
   "outputs": [],
   "source": [
    "#Strip the column names of white space\n",
    "for col in ['AgencyName', 'PaymentProductName', 'RouteName']:\n",
    "    df[col] = df[col].str.strip()"
   ]
  },
  {
   "cell_type": "code",
   "execution_count": 418,
   "metadata": {},
   "outputs": [],
   "source": [
    "#df_clipper_users = pd.read_csv('data/clipper_users.csv')"
   ]
  },
  {
   "cell_type": "code",
   "execution_count": 419,
   "metadata": {},
   "outputs": [],
   "source": [
    "#df = df.merge(df_clipper_users, on='ClipperCardID')"
   ]
  },
  {
   "cell_type": "code",
   "execution_count": 420,
   "metadata": {},
   "outputs": [],
   "source": [
    "df_fares = pd.read_csv('data/alt_fares.csv')"
   ]
  },
  {
   "cell_type": "code",
   "execution_count": 421,
   "metadata": {},
   "outputs": [],
   "source": [
    "df_passes = pd.read_csv('data/passes.csv')"
   ]
  },
  {
   "cell_type": "code",
   "execution_count": null,
   "metadata": {},
   "outputs": [],
   "source": []
  },
  {
   "cell_type": "code",
   "execution_count": 480,
   "metadata": {},
   "outputs": [
    {
     "data": {
      "text/plain": [
       "(6875630, 20)"
      ]
     },
     "execution_count": 480,
     "metadata": {},
     "output_type": "execute_result"
    }
   ],
   "source": [
    "df.shape"
   ]
  },
  {
   "cell_type": "code",
   "execution_count": 423,
   "metadata": {},
   "outputs": [
    {
     "data": {
      "text/html": [
       "<div>\n",
       "<style scoped>\n",
       "    .dataframe tbody tr th:only-of-type {\n",
       "        vertical-align: middle;\n",
       "    }\n",
       "\n",
       "    .dataframe tbody tr th {\n",
       "        vertical-align: top;\n",
       "    }\n",
       "\n",
       "    .dataframe thead th {\n",
       "        text-align: right;\n",
       "    }\n",
       "</style>\n",
       "<table border=\"1\" class=\"dataframe\">\n",
       "  <thead>\n",
       "    <tr style=\"text-align: right;\">\n",
       "      <th></th>\n",
       "      <th>Year</th>\n",
       "      <th>Month</th>\n",
       "      <th>CircadianDayOfWeek</th>\n",
       "      <th>CircadianDayOfWeek_Name</th>\n",
       "      <th>RandomWeekID</th>\n",
       "      <th>ClipperCardID</th>\n",
       "      <th>TripSequenceID</th>\n",
       "      <th>AgencyID</th>\n",
       "      <th>AgencyName</th>\n",
       "      <th>PaymentProductID</th>\n",
       "      <th>PaymentProductName</th>\n",
       "      <th>FareAmount</th>\n",
       "      <th>TagOnTime_Time</th>\n",
       "      <th>TagOnLocationID</th>\n",
       "      <th>TagOnLocationName</th>\n",
       "      <th>RouteID</th>\n",
       "      <th>RouteName</th>\n",
       "      <th>TagOffTime_Time</th>\n",
       "      <th>TagOffLocationID</th>\n",
       "      <th>TagOffLocationName</th>\n",
       "    </tr>\n",
       "  </thead>\n",
       "  <tbody>\n",
       "    <tr>\n",
       "      <th>0</th>\n",
       "      <td>2014</td>\n",
       "      <td>9</td>\n",
       "      <td>3</td>\n",
       "      <td>Tuesday</td>\n",
       "      <td>8</td>\n",
       "      <td>0AD15C2C225BBC3121B305970305127B17F8F5DB</td>\n",
       "      <td>2</td>\n",
       "      <td>4</td>\n",
       "      <td>BART</td>\n",
       "      <td>0</td>\n",
       "      <td>Translink E-Cash</td>\n",
       "      <td>5.65</td>\n",
       "      <td>17:20:00.0000000</td>\n",
       "      <td>7</td>\n",
       "      <td>Civic Center (BART)</td>\n",
       "      <td>0</td>\n",
       "      <td>NaN</td>\n",
       "      <td>18:20:00.0000000</td>\n",
       "      <td>20.0</td>\n",
       "      <td>Concord (BART)</td>\n",
       "    </tr>\n",
       "    <tr>\n",
       "      <th>1</th>\n",
       "      <td>2014</td>\n",
       "      <td>9</td>\n",
       "      <td>3</td>\n",
       "      <td>Tuesday</td>\n",
       "      <td>8</td>\n",
       "      <td>0AD20E3A45A67ED03A40F472244E5A91144E3627</td>\n",
       "      <td>1</td>\n",
       "      <td>4</td>\n",
       "      <td>BART</td>\n",
       "      <td>0</td>\n",
       "      <td>Translink E-Cash</td>\n",
       "      <td>4.20</td>\n",
       "      <td>20:10:00.0000000</td>\n",
       "      <td>31</td>\n",
       "      <td>Coliseum/Oakland Airport</td>\n",
       "      <td>0</td>\n",
       "      <td>NaN</td>\n",
       "      <td>21:00:00.0000000</td>\n",
       "      <td>5.0</td>\n",
       "      <td>24th St Mission</td>\n",
       "    </tr>\n",
       "    <tr>\n",
       "      <th>2</th>\n",
       "      <td>2014</td>\n",
       "      <td>9</td>\n",
       "      <td>3</td>\n",
       "      <td>Tuesday</td>\n",
       "      <td>8</td>\n",
       "      <td>0AD3D35CBDC374D820AD99F7F0F87B35D31C95CB</td>\n",
       "      <td>1</td>\n",
       "      <td>4</td>\n",
       "      <td>BART</td>\n",
       "      <td>250</td>\n",
       "      <td>BART HVD 45/48</td>\n",
       "      <td>1.85</td>\n",
       "      <td>17:20:00.0000000</td>\n",
       "      <td>18</td>\n",
       "      <td>Walnut Creek</td>\n",
       "      <td>0</td>\n",
       "      <td>NaN</td>\n",
       "      <td>17:20:00.0000000</td>\n",
       "      <td>19.0</td>\n",
       "      <td>Pleasant Hill</td>\n",
       "    </tr>\n",
       "    <tr>\n",
       "      <th>3</th>\n",
       "      <td>2014</td>\n",
       "      <td>9</td>\n",
       "      <td>3</td>\n",
       "      <td>Tuesday</td>\n",
       "      <td>8</td>\n",
       "      <td>0AD3E50ECF4A47C9975593C2D7CAA0750B777E8B</td>\n",
       "      <td>1</td>\n",
       "      <td>18</td>\n",
       "      <td>SF Muni</td>\n",
       "      <td>597</td>\n",
       "      <td>SF Muni Transfer Token</td>\n",
       "      <td>0.00</td>\n",
       "      <td>13:40:00.0000000</td>\n",
       "      <td>0</td>\n",
       "      <td>SFM bus</td>\n",
       "      <td>138</td>\n",
       "      <td>MTANONE</td>\n",
       "      <td>NaN</td>\n",
       "      <td>NaN</td>\n",
       "      <td>NaN</td>\n",
       "    </tr>\n",
       "    <tr>\n",
       "      <th>4</th>\n",
       "      <td>2014</td>\n",
       "      <td>9</td>\n",
       "      <td>3</td>\n",
       "      <td>Tuesday</td>\n",
       "      <td>8</td>\n",
       "      <td>0AD3E50ECF4A47C9975593C2D7CAA0750B777E8B</td>\n",
       "      <td>2</td>\n",
       "      <td>18</td>\n",
       "      <td>SF Muni</td>\n",
       "      <td>0</td>\n",
       "      <td>Translink E-Cash</td>\n",
       "      <td>2.25</td>\n",
       "      <td>18:10:00.0000000</td>\n",
       "      <td>0</td>\n",
       "      <td>SFM bus</td>\n",
       "      <td>138</td>\n",
       "      <td>MTANONE</td>\n",
       "      <td>NaN</td>\n",
       "      <td>NaN</td>\n",
       "      <td>NaN</td>\n",
       "    </tr>\n",
       "  </tbody>\n",
       "</table>\n",
       "</div>"
      ],
      "text/plain": [
       "   Year  Month  CircadianDayOfWeek CircadianDayOfWeek_Name  RandomWeekID  \\\n",
       "0  2014      9                   3                 Tuesday             8   \n",
       "1  2014      9                   3                 Tuesday             8   \n",
       "2  2014      9                   3                 Tuesday             8   \n",
       "3  2014      9                   3                 Tuesday             8   \n",
       "4  2014      9                   3                 Tuesday             8   \n",
       "\n",
       "                              ClipperCardID  TripSequenceID  AgencyID  \\\n",
       "0  0AD15C2C225BBC3121B305970305127B17F8F5DB               2         4   \n",
       "1  0AD20E3A45A67ED03A40F472244E5A91144E3627               1         4   \n",
       "2  0AD3D35CBDC374D820AD99F7F0F87B35D31C95CB               1         4   \n",
       "3  0AD3E50ECF4A47C9975593C2D7CAA0750B777E8B               1        18   \n",
       "4  0AD3E50ECF4A47C9975593C2D7CAA0750B777E8B               2        18   \n",
       "\n",
       "  AgencyName  PaymentProductID      PaymentProductName  FareAmount  \\\n",
       "0       BART                 0        Translink E-Cash        5.65   \n",
       "1       BART                 0        Translink E-Cash        4.20   \n",
       "2       BART               250          BART HVD 45/48        1.85   \n",
       "3    SF Muni               597  SF Muni Transfer Token        0.00   \n",
       "4    SF Muni                 0        Translink E-Cash        2.25   \n",
       "\n",
       "     TagOnTime_Time  TagOnLocationID         TagOnLocationName  RouteID  \\\n",
       "0  17:20:00.0000000                7       Civic Center (BART)        0   \n",
       "1  20:10:00.0000000               31  Coliseum/Oakland Airport        0   \n",
       "2  17:20:00.0000000               18              Walnut Creek        0   \n",
       "3  13:40:00.0000000                0                   SFM bus      138   \n",
       "4  18:10:00.0000000                0                   SFM bus      138   \n",
       "\n",
       "  RouteName   TagOffTime_Time  TagOffLocationID TagOffLocationName  \n",
       "0       NaN  18:20:00.0000000              20.0     Concord (BART)  \n",
       "1       NaN  21:00:00.0000000               5.0    24th St Mission  \n",
       "2       NaN  17:20:00.0000000              19.0      Pleasant Hill  \n",
       "3   MTANONE               NaN               NaN                NaN  \n",
       "4   MTANONE               NaN               NaN                NaN  "
      ]
     },
     "execution_count": 423,
     "metadata": {},
     "output_type": "execute_result"
    }
   ],
   "source": [
    "df.head()"
   ]
  },
  {
   "cell_type": "code",
   "execution_count": 424,
   "metadata": {},
   "outputs": [
    {
     "data": {
      "text/plain": [
       "10292760.149999997"
      ]
     },
     "execution_count": 424,
     "metadata": {},
     "output_type": "execute_result"
    }
   ],
   "source": [
    "#Baseline scenario: single fares plus monthly passes\n",
    "df['FareAmount'].sum() #Single fares - approx $10mm"
   ]
  },
  {
   "cell_type": "code",
   "execution_count": 425,
   "metadata": {},
   "outputs": [
    {
     "data": {
      "text/plain": [
       "14703943.071428565"
      ]
     },
     "execution_count": 425,
     "metadata": {},
     "output_type": "execute_result"
    }
   ],
   "source": [
    "df['FareAmount'].sum()*30/21 #Single fares, adjusted to full month - approx $15mm"
   ]
  },
  {
   "cell_type": "code",
   "execution_count": 426,
   "metadata": {},
   "outputs": [],
   "source": [
    "df_baseline = df.groupby(['ClipperCardID', 'PaymentProductName']).count().reset_index()[['ClipperCardID', 'PaymentProductName']]"
   ]
  },
  {
   "cell_type": "code",
   "execution_count": 427,
   "metadata": {},
   "outputs": [],
   "source": [
    "df_baseline = df_baseline.merge(df_passes, on='PaymentProductName')"
   ]
  },
  {
   "cell_type": "code",
   "execution_count": 428,
   "metadata": {},
   "outputs": [
    {
     "data": {
      "text/plain": [
       "70926256.6"
      ]
     },
     "execution_count": 428,
     "metadata": {},
     "output_type": "execute_result"
    }
   ],
   "source": [
    "df_baseline['PassCost2014'].sum() #Monthly passes - approx $70m"
   ]
  },
  {
   "cell_type": "code",
   "execution_count": 429,
   "metadata": {},
   "outputs": [],
   "source": [
    "#Scenario 1: assume no monthly passes, everyone pays single fare\n",
    "df_scenario1 = df.merge(df_fares, on=['AgencyName', 'PaymentProductName'], how='left')"
   ]
  },
  {
   "cell_type": "code",
   "execution_count": 430,
   "metadata": {},
   "outputs": [],
   "source": [
    "df_scenario1['SingleFareCost'] = df_scenario1['FareCost2014'].combine_first(df_scenario1['FareAmount'])"
   ]
  },
  {
   "cell_type": "code",
   "execution_count": 431,
   "metadata": {},
   "outputs": [
    {
     "data": {
      "text/plain": [
       "15820397.650000006"
      ]
     },
     "execution_count": 431,
     "metadata": {},
     "output_type": "execute_result"
    }
   ],
   "source": [
    "df_scenario1['SingleFareCost'].sum() #Single fares - approx $16mm"
   ]
  },
  {
   "cell_type": "code",
   "execution_count": 432,
   "metadata": {},
   "outputs": [
    {
     "data": {
      "text/plain": [
       "22600568.07142858"
      ]
     },
     "execution_count": 432,
     "metadata": {},
     "output_type": "execute_result"
    }
   ],
   "source": [
    "df_scenario1['SingleFareCost'].sum()*30/21 #Single fares, adjusted to full month - approx $22mm"
   ]
  },
  {
   "cell_type": "code",
   "execution_count": 433,
   "metadata": {},
   "outputs": [],
   "source": [
    "#Uh-oh, this doesn't make sense. We need to manually adjust the number of trips made with passes."
   ]
  },
  {
   "cell_type": "code",
   "execution_count": null,
   "metadata": {},
   "outputs": [],
   "source": []
  },
  {
   "cell_type": "code",
   "execution_count": 434,
   "metadata": {},
   "outputs": [
    {
     "data": {
      "text/html": [
       "<div>\n",
       "<style scoped>\n",
       "    .dataframe tbody tr th:only-of-type {\n",
       "        vertical-align: middle;\n",
       "    }\n",
       "\n",
       "    .dataframe tbody tr th {\n",
       "        vertical-align: top;\n",
       "    }\n",
       "\n",
       "    .dataframe thead th {\n",
       "        text-align: right;\n",
       "    }\n",
       "</style>\n",
       "<table border=\"1\" class=\"dataframe\">\n",
       "  <thead>\n",
       "    <tr style=\"text-align: right;\">\n",
       "      <th></th>\n",
       "      <th>AgencyName</th>\n",
       "      <th>Year</th>\n",
       "    </tr>\n",
       "  </thead>\n",
       "  <tbody>\n",
       "    <tr>\n",
       "      <th>6</th>\n",
       "      <td>SF Muni</td>\n",
       "      <td>3200258</td>\n",
       "    </tr>\n",
       "    <tr>\n",
       "      <th>1</th>\n",
       "      <td>BART</td>\n",
       "      <td>2160862</td>\n",
       "    </tr>\n",
       "    <tr>\n",
       "      <th>0</th>\n",
       "      <td>AC Transit</td>\n",
       "      <td>632015</td>\n",
       "    </tr>\n",
       "    <tr>\n",
       "      <th>8</th>\n",
       "      <td>VTA</td>\n",
       "      <td>472853</td>\n",
       "    </tr>\n",
       "    <tr>\n",
       "      <th>7</th>\n",
       "      <td>SamTrans</td>\n",
       "      <td>153466</td>\n",
       "    </tr>\n",
       "    <tr>\n",
       "      <th>2</th>\n",
       "      <td>Caltrain</td>\n",
       "      <td>93331</td>\n",
       "    </tr>\n",
       "    <tr>\n",
       "      <th>4</th>\n",
       "      <td>Golden Gate Transit</td>\n",
       "      <td>78894</td>\n",
       "    </tr>\n",
       "    <tr>\n",
       "      <th>3</th>\n",
       "      <td>Golden Gate Ferry</td>\n",
       "      <td>66417</td>\n",
       "    </tr>\n",
       "    <tr>\n",
       "      <th>9</th>\n",
       "      <td>WETA</td>\n",
       "      <td>17438</td>\n",
       "    </tr>\n",
       "    <tr>\n",
       "      <th>5</th>\n",
       "      <td>Napa Solano</td>\n",
       "      <td>96</td>\n",
       "    </tr>\n",
       "  </tbody>\n",
       "</table>\n",
       "</div>"
      ],
      "text/plain": [
       "            AgencyName     Year\n",
       "6              SF Muni  3200258\n",
       "1                 BART  2160862\n",
       "0           AC Transit   632015\n",
       "8                  VTA   472853\n",
       "7             SamTrans   153466\n",
       "2             Caltrain    93331\n",
       "4  Golden Gate Transit    78894\n",
       "3    Golden Gate Ferry    66417\n",
       "9                 WETA    17438\n",
       "5          Napa Solano       96"
      ]
     },
     "execution_count": 434,
     "metadata": {},
     "output_type": "execute_result"
    }
   ],
   "source": [
    "df_scenario1.groupby('AgencyName').count().reset_index()[['AgencyName', 'Year']].sort_values('Year', ascending=False)"
   ]
  },
  {
   "cell_type": "code",
   "execution_count": null,
   "metadata": {},
   "outputs": [],
   "source": []
  },
  {
   "cell_type": "code",
   "execution_count": null,
   "metadata": {},
   "outputs": [],
   "source": []
  },
  {
   "cell_type": "code",
   "execution_count": 435,
   "metadata": {},
   "outputs": [
    {
     "data": {
      "text/plain": [
       "'\\nAll 93331 Caltrain trips are E-Cash.\\nFrom Caltrain stats:\\nClipper Caltrain Monthly Pass 41%\\nClipper E-cash 16%\\nClipper 8-ride Ticket 4%\\nDay Pass 10%\\nGo Pass 18%\\nOne-way ticket 11%\\n(source: http://www.caltrain.com/Assets/_MarketDevelopment/pdf/Caltrain+Origin+$!26+Destination+Survey+2014.pdf?v=2)\\n\\nGet expected monthly pass trips: (93331 * 41/16) = 239161\\nGet expected 8-ride pass trips: (93331 * 4/16) = 23333\\nAdd these into dataset by resampling from data. Assume same station-to-station distribution as E-cash.\\n\\nPROCESS\\n1) Existing monthly pass users\\n - select monthly pass user\\n - generate random number of Caltrain trips for three-week period\\n - sample from E-cash data, insert into table\\n\\n2) Remaining monthly pass users:\\n - sample enough users from E-cash data to satisfy remaining users\\n - randomize Clipper ID, re-insert into table\\n\\n3) Other users:\\n - as above\\n '"
      ]
     },
     "execution_count": 435,
     "metadata": {},
     "output_type": "execute_result"
    }
   ],
   "source": [
    "'''\n",
    "All 93331 Caltrain trips are E-Cash.\n",
    "From Caltrain stats:\n",
    "Clipper Caltrain Monthly Pass 41%\n",
    "Clipper E-cash 16%\n",
    "Clipper 8-ride Ticket 4%\n",
    "Day Pass 10%\n",
    "Go Pass 18%\n",
    "One-way ticket 11%\n",
    "(source: http://www.caltrain.com/Assets/_MarketDevelopment/pdf/Caltrain+Origin+$!26+Destination+Survey+2014.pdf?v=2)\n",
    "\n",
    "Get expected monthly pass trips: (93331 * 41/16) = 239161\n",
    "Get expected 8-ride pass trips: (93331 * 4/16) = 23333\n",
    "Add these into dataset by resampling from data. Assume same station-to-station distribution as E-cash.\n",
    "\n",
    "PROCESS\n",
    "1) Existing monthly pass users\n",
    " - select monthly pass user\n",
    " - generate random number of Caltrain trips for three-week period\n",
    " - sample from E-cash data, insert into table\n",
    "\n",
    "2) Remaining monthly pass users:\n",
    " - sample enough users from E-cash data to satisfy remaining users\n",
    " - randomize Clipper ID, re-insert into table\n",
    "\n",
    "3) Other users:\n",
    " - as above\n",
    " '''"
   ]
  },
  {
   "cell_type": "code",
   "execution_count": 436,
   "metadata": {},
   "outputs": [],
   "source": [
    "#Load Caltrain pass-to-fare lookup\n",
    "df_caltrain_passes_to_fares = pd.read_csv('data/caltrain_passes_to_fares.csv')"
   ]
  },
  {
   "cell_type": "code",
   "execution_count": 437,
   "metadata": {},
   "outputs": [],
   "source": [
    "#Select ClipperIDs of existing monthly pass users\n",
    "df_caltrain_pass_users = df[df['PaymentProductName'].str[:8] == 'Caltrain'][['ClipperCardID',\n",
    "                                                                             'PaymentProductID',\n",
    "                                                                             'PaymentProductName',\n",
    "                                                                             'CircadianDayOfWeek',\n",
    "                                                                             'RandomWeekID']]"
   ]
  },
  {
   "cell_type": "code",
   "execution_count": 438,
   "metadata": {},
   "outputs": [],
   "source": [
    "#Merge in fare amounts\n",
    "df_caltrain_pass_users = df_caltrain_pass_users.merge(df_caltrain_passes_to_fares,\n",
    "                                                      left_on='PaymentProductName',\n",
    "                                                      right_on='PaymentProductName')"
   ]
  },
  {
   "cell_type": "code",
   "execution_count": 439,
   "metadata": {},
   "outputs": [],
   "source": [
    "df_caltrain_pass_users.sort_values('FareAmount', inplace=True)"
   ]
  },
  {
   "cell_type": "code",
   "execution_count": 440,
   "metadata": {},
   "outputs": [],
   "source": [
    "#Get unique clipper IDs and fare amounts\n",
    "df_caltrain_pass_users = df_caltrain_pass_users.groupby(['ClipperCardID',\n",
    "                                                         'FareAmount',\n",
    "                                                         'PaymentProductID',\n",
    "                                                         'PaymentProductName',\n",
    "                                                         'CircadianDayOfWeek',\n",
    "                                                         'RandomWeekID']).count().reset_index()"
   ]
  },
  {
   "cell_type": "code",
   "execution_count": 441,
   "metadata": {},
   "outputs": [],
   "source": [
    "df_caltrain_pass_users['index_in_fare_group'] = df_caltrain_pass_users.groupby('FareAmount',\n",
    "                                                                               'CircadianDayOfWeek',\n",
    "                                                                               'RandomWeekID').cumcount()"
   ]
  },
  {
   "cell_type": "code",
   "execution_count": 442,
   "metadata": {},
   "outputs": [],
   "source": [
    "#Change the names of fields we will use to copy over the matched data\n",
    "df_caltrain_pass_users.rename(mapper=str, columns={'ClipperCardID': 'OriginalClipperCardID',\n",
    "                                                   'FareAmount': 'OriginalFareAmount',\n",
    "                                                  'PaymentProductID': 'OriginalPaymentProductID',\n",
    "                                                  'PaymentProductName': 'OriginalPaymentProductName'}, inplace=True)"
   ]
  },
  {
   "cell_type": "code",
   "execution_count": 443,
   "metadata": {},
   "outputs": [],
   "source": [
    "#Find users in the E-cash data who match clipper users\n",
    "df_matched_users = pd.DataFrame(columns=['FareAmount',\n",
    "                                         'ClipperCardID',\n",
    "                                         'index_in_fare_group'])\n",
    "\n",
    "for i, row in df_caltrain_pass_users.groupby('OriginalFareAmount').count().reset_index().iterrows():\n",
    "    df_temp = df[(df['AgencyName'] == 'Caltrain') & (df['FareAmount'] == row['OriginalFareAmount'])]\\\n",
    "                                  .sample(n=row['OriginalClipperCardID'].astype(int))[['FareAmount', 'ClipperCardID']]\\\n",
    "                                  .reset_index(drop=True)\\\n",
    "                                  .reset_index(drop=False)\n",
    "    df_temp.rename(mapper=str, columns={'index': 'index_in_fare_group'}, inplace=True)\n",
    "    df_temp=df_temp[['FareAmount', 'ClipperCardID', 'index_in_fare_group']]\n",
    "    df_matched_users = pd.concat([df_matched_users, df_temp])"
   ]
  },
  {
   "cell_type": "code",
   "execution_count": 444,
   "metadata": {},
   "outputs": [],
   "source": [
    "df_matched_users.rename(mapper=str, columns={'ClipperCardID': 'MatchedClipperCardID'}, inplace=True)"
   ]
  },
  {
   "cell_type": "code",
   "execution_count": 445,
   "metadata": {},
   "outputs": [],
   "source": [
    "df_matched_users['index_in_fare_group'] = df_matched_users['index_in_fare_group'].astype(int)"
   ]
  },
  {
   "cell_type": "code",
   "execution_count": 446,
   "metadata": {},
   "outputs": [],
   "source": [
    "#Match back to previous clipper ID\n",
    "df_caltrain_pass_users = df_caltrain_pass_users.merge(df_matched_users,\n",
    "                                                      left_on=['index_in_fare_group', 'OriginalFareAmount'],\n",
    "                                                      right_on=['index_in_fare_group', 'FareAmount'])"
   ]
  },
  {
   "cell_type": "code",
   "execution_count": 447,
   "metadata": {},
   "outputs": [],
   "source": [
    "df_caltrain_pass_users = df_caltrain_pass_users[['OriginalClipperCardID',\n",
    "                                                 'OriginalPaymentProductID',\n",
    "                                                 'OriginalPaymentProductName',\n",
    "                                                 'MatchedClipperCardID']]"
   ]
  },
  {
   "cell_type": "code",
   "execution_count": 448,
   "metadata": {},
   "outputs": [],
   "source": [
    "#Get Caltrain trips for these Clipper IDs\n",
    "df2 = df_caltrain_pass_users.merge( df[df['AgencyName'] == 'Caltrain'], left_on='MatchedClipperCardID', right_on='ClipperCardID')"
   ]
  },
  {
   "cell_type": "code",
   "execution_count": 449,
   "metadata": {},
   "outputs": [],
   "source": [
    "#Set matched fields to originals\n",
    "df2['ClipperCardID'] = df2['OriginalClipperCardID']\n",
    "df2['PaymentProductID'] = df2['OriginalPaymentProductID']\n",
    "df2['PaymentProductName'] = df2['OriginalPaymentProductName']\n",
    "df2['FareAmount'] = 0.0"
   ]
  },
  {
   "cell_type": "code",
   "execution_count": 450,
   "metadata": {},
   "outputs": [],
   "source": [
    "#Finally, drop added columns\n",
    "df2.drop(columns=['OriginalClipperCardID','OriginalPaymentProductID','OriginalPaymentProductName', 'MatchedClipperCardID'], inplace=True)"
   ]
  },
  {
   "cell_type": "code",
   "execution_count": 451,
   "metadata": {},
   "outputs": [],
   "source": [
    "#Save point!\n",
    "df2.to_csv('data/df2.csv', index=False)"
   ]
  },
  {
   "cell_type": "code",
   "execution_count": null,
   "metadata": {},
   "outputs": [],
   "source": []
  },
  {
   "cell_type": "code",
   "execution_count": null,
   "metadata": {},
   "outputs": [],
   "source": []
  },
  {
   "cell_type": "code",
   "execution_count": null,
   "metadata": {},
   "outputs": [],
   "source": []
  },
  {
   "cell_type": "code",
   "execution_count": 37,
   "metadata": {},
   "outputs": [
    {
     "data": {
      "text/plain": [
       "0.08343627541167445"
      ]
     },
     "execution_count": 37,
     "metadata": {},
     "output_type": "execute_result"
    }
   ],
   "source": [
    "93331/(1597986*21/30)"
   ]
  },
  {
   "cell_type": "code",
   "execution_count": 159,
   "metadata": {},
   "outputs": [
    {
     "data": {
      "text/plain": [
       "47832200"
      ]
     },
     "execution_count": 159,
     "metadata": {},
     "output_type": "execute_result"
    }
   ],
   "source": [
    "239161*200"
   ]
  },
  {
   "cell_type": "code",
   "execution_count": 43,
   "metadata": {},
   "outputs": [
    {
     "data": {
      "text/plain": [
       "0.7378189661003536"
      ]
     },
     "execution_count": 43,
     "metadata": {},
     "output_type": "execute_result"
    }
   ],
   "source": [
    "random.uniform(0, 1)"
   ]
  },
  {
   "cell_type": "code",
   "execution_count": null,
   "metadata": {},
   "outputs": [],
   "source": []
  },
  {
   "cell_type": "code",
   "execution_count": 194,
   "metadata": {},
   "outputs": [
    {
     "data": {
      "text/plain": [
       "array([[<matplotlib.axes._subplots.AxesSubplot object at 0x13c80c630>]],\n",
       "      dtype=object)"
      ]
     },
     "execution_count": 194,
     "metadata": {},
     "output_type": "execute_result"
    },
    {
     "data": {
      "image/png": "[encoded data removed]",
      "text/plain": [
       "<Figure size 432x288 with 1 Axes>"
      ]
     },
     "metadata": {},
     "output_type": "display_data"
    }
   ],
   "source": [
    "df[df['PaymentProductName']=='AC Transit Adult TransBay (31 Day Rolling) pass'].groupby('ClipperCardID').count()[['Year']].hist(bins=50)"
   ]
  },
  {
   "cell_type": "code",
   "execution_count": null,
   "metadata": {},
   "outputs": [],
   "source": []
  },
  {
   "cell_type": "code",
   "execution_count": null,
   "metadata": {},
   "outputs": [],
   "source": []
  },
  {
   "cell_type": "code",
   "execution_count": 162,
   "metadata": {},
   "outputs": [
    {
     "data": {
      "text/plain": [
       "array([ 0.  ,  1.25,  2.25,  2.75,  3.25,  4.25,  4.75,  5.25,  6.25,\n",
       "        6.75,  8.75, 10.75, 12.75])"
      ]
     },
     "execution_count": 162,
     "metadata": {},
     "output_type": "execute_result"
    }
   ],
   "source": [
    "np.sort(df[df['AgencyName']=='Caltrain']['FareAmount'].unique())"
   ]
  },
  {
   "cell_type": "code",
   "execution_count": 196,
   "metadata": {},
   "outputs": [
    {
     "data": {
      "text/plain": [
       "array([[<matplotlib.axes._subplots.AxesSubplot object at 0x13e13f588>]],\n",
       "      dtype=object)"
      ]
     },
     "execution_count": 196,
     "metadata": {},
     "output_type": "execute_result"
    },
    {
     "data": {
      "image/png": "[encoded data removed]",
      "text/plain": [
       "<Figure size 432x288 with 1 Axes>"
      ]
     },
     "metadata": {},
     "output_type": "display_data"
    }
   ],
   "source": [
    "df[df['AgencyName']=='Caltrain'].groupby('ClipperCardID').count()[['Year']].hist(bins=50)"
   ]
  },
  {
   "cell_type": "code",
   "execution_count": 173,
   "metadata": {},
   "outputs": [
    {
     "data": {
      "text/plain": [
       "array([[<matplotlib.axes._subplots.AxesSubplot object at 0x13c287a20>]],\n",
       "      dtype=object)"
      ]
     },
     "execution_count": 173,
     "metadata": {},
     "output_type": "execute_result"
    },
    {
     "data": {
      "image/png": "[encoded data removed]",
      "text/plain": [
       "<Figure size 432x288 with 1 Axes>"
      ]
     },
     "metadata": {},
     "output_type": "display_data"
    }
   ],
   "source": [
    "df[df['PaymentProductName'].str[:8] == 'Caltrain'].groupby('ClipperCardID').count()[['Year']].hist(bins=50)"
   ]
  },
  {
   "cell_type": "code",
   "execution_count": 52,
   "metadata": {},
   "outputs": [
    {
     "data": {
      "text/plain": [
       "(5916,)"
      ]
     },
     "execution_count": 52,
     "metadata": {},
     "output_type": "execute_result"
    }
   ],
   "source": [
    "#Get UserIDs of people with Caltrain passes\n",
    "np.unique(df[df['PaymentProductName'].str[:8] == 'Caltrain'][['UserID']]).shape"
   ]
  },
  {
   "cell_type": "code",
   "execution_count": null,
   "metadata": {},
   "outputs": [],
   "source": []
  },
  {
   "cell_type": "code",
   "execution_count": null,
   "metadata": {},
   "outputs": [],
   "source": []
  },
  {
   "cell_type": "code",
   "execution_count": null,
   "metadata": {},
   "outputs": [],
   "source": []
  },
  {
   "cell_type": "code",
   "execution_count": null,
   "metadata": {},
   "outputs": [],
   "source": []
  },
  {
   "cell_type": "code",
   "execution_count": null,
   "metadata": {},
   "outputs": [],
   "source": []
  },
  {
   "cell_type": "code",
   "execution_count": null,
   "metadata": {},
   "outputs": [],
   "source": []
  },
  {
   "cell_type": "code",
   "execution_count": null,
   "metadata": {},
   "outputs": [],
   "source": []
  },
  {
   "cell_type": "code",
   "execution_count": null,
   "metadata": {},
   "outputs": [],
   "source": [
    "'''\n",
    "THIS IS SUSPECT METHODOLOGY - revisit later\n",
    "\n",
    "Assume BART is capturing all trips.\n",
    "BART annual ridership in 2014 was 126,603,000.\n",
    "Assume (126,603,000 * 3/52) = 7304019 for those three weeks.\n",
    "This means BART ridership using Clipper is (2160862/7304019) = 29.5%.\n",
    "\n",
    "Caltrain annual ridership in 2014 was 15,596,000 .\n",
    "Assume (15596000 * 3/52) = 899769 for those three weeks.\n",
    "Adjusted for Clipper coverage, we should see (899769 * 0.295) = 265432 Clipper riders\n",
    "This means we are missing (265432 - 93331) = 172101 pass riders\n",
    "This gives us a pass usage ratio of (172101/(172101+93331)) = 64.8%, which sounds about right\n",
    "\n",
    "Repeat for all agencies.\n",
    "Ridership data comes from SPUR Seamless Transit, with Golden Gate Ferry from: http://goldengateferry.org/researchlibrary/statistics.php#annual\n",
    "'''"
   ]
  },
  {
   "cell_type": "code",
   "execution_count": 27,
   "metadata": {},
   "outputs": [],
   "source": [
    "df_scenario1['PassFlag'] = df_scenario1['FareCost2014'].notnull()"
   ]
  },
  {
   "cell_type": "code",
   "execution_count": 28,
   "metadata": {},
   "outputs": [
    {
     "data": {
      "text/html": [
       "<div>\n",
       "<style scoped>\n",
       "    .dataframe tbody tr th:only-of-type {\n",
       "        vertical-align: middle;\n",
       "    }\n",
       "\n",
       "    .dataframe tbody tr th {\n",
       "        vertical-align: top;\n",
       "    }\n",
       "\n",
       "    .dataframe thead th {\n",
       "        text-align: right;\n",
       "    }\n",
       "</style>\n",
       "<table border=\"1\" class=\"dataframe\">\n",
       "  <thead>\n",
       "    <tr style=\"text-align: right;\">\n",
       "      <th></th>\n",
       "      <th>AgencyName</th>\n",
       "      <th>PassFlag</th>\n",
       "      <th>Year</th>\n",
       "    </tr>\n",
       "  </thead>\n",
       "  <tbody>\n",
       "    <tr>\n",
       "      <th>9</th>\n",
       "      <td>SF Muni</td>\n",
       "      <td>True</td>\n",
       "      <td>2023783</td>\n",
       "    </tr>\n",
       "    <tr>\n",
       "      <th>2</th>\n",
       "      <td>BART</td>\n",
       "      <td>False</td>\n",
       "      <td>1937402</td>\n",
       "    </tr>\n",
       "    <tr>\n",
       "      <th>8</th>\n",
       "      <td>SF Muni</td>\n",
       "      <td>False</td>\n",
       "      <td>1176475</td>\n",
       "    </tr>\n",
       "    <tr>\n",
       "      <th>13</th>\n",
       "      <td>VTA</td>\n",
       "      <td>True</td>\n",
       "      <td>422943</td>\n",
       "    </tr>\n",
       "    <tr>\n",
       "      <th>1</th>\n",
       "      <td>AC Transit</td>\n",
       "      <td>True</td>\n",
       "      <td>388830</td>\n",
       "    </tr>\n",
       "    <tr>\n",
       "      <th>0</th>\n",
       "      <td>AC Transit</td>\n",
       "      <td>False</td>\n",
       "      <td>243185</td>\n",
       "    </tr>\n",
       "    <tr>\n",
       "      <th>3</th>\n",
       "      <td>BART</td>\n",
       "      <td>True</td>\n",
       "      <td>223460</td>\n",
       "    </tr>\n",
       "    <tr>\n",
       "      <th>11</th>\n",
       "      <td>SamTrans</td>\n",
       "      <td>True</td>\n",
       "      <td>111057</td>\n",
       "    </tr>\n",
       "    <tr>\n",
       "      <th>4</th>\n",
       "      <td>Caltrain</td>\n",
       "      <td>False</td>\n",
       "      <td>93331</td>\n",
       "    </tr>\n",
       "    <tr>\n",
       "      <th>6</th>\n",
       "      <td>Golden Gate Transit</td>\n",
       "      <td>False</td>\n",
       "      <td>78894</td>\n",
       "    </tr>\n",
       "    <tr>\n",
       "      <th>5</th>\n",
       "      <td>Golden Gate Ferry</td>\n",
       "      <td>False</td>\n",
       "      <td>66417</td>\n",
       "    </tr>\n",
       "    <tr>\n",
       "      <th>12</th>\n",
       "      <td>VTA</td>\n",
       "      <td>False</td>\n",
       "      <td>49910</td>\n",
       "    </tr>\n",
       "    <tr>\n",
       "      <th>10</th>\n",
       "      <td>SamTrans</td>\n",
       "      <td>False</td>\n",
       "      <td>42409</td>\n",
       "    </tr>\n",
       "    <tr>\n",
       "      <th>14</th>\n",
       "      <td>WETA</td>\n",
       "      <td>False</td>\n",
       "      <td>17438</td>\n",
       "    </tr>\n",
       "    <tr>\n",
       "      <th>7</th>\n",
       "      <td>Napa Solano</td>\n",
       "      <td>False</td>\n",
       "      <td>96</td>\n",
       "    </tr>\n",
       "  </tbody>\n",
       "</table>\n",
       "</div>"
      ],
      "text/plain": [
       "             AgencyName  PassFlag     Year\n",
       "9               SF Muni      True  2023783\n",
       "2                  BART     False  1937402\n",
       "8               SF Muni     False  1176475\n",
       "13                  VTA      True   422943\n",
       "1            AC Transit      True   388830\n",
       "0            AC Transit     False   243185\n",
       "3                  BART      True   223460\n",
       "11             SamTrans      True   111057\n",
       "4              Caltrain     False    93331\n",
       "6   Golden Gate Transit     False    78894\n",
       "5     Golden Gate Ferry     False    66417\n",
       "12                  VTA     False    49910\n",
       "10             SamTrans     False    42409\n",
       "14                 WETA     False    17438\n",
       "7           Napa Solano     False       96"
      ]
     },
     "execution_count": 28,
     "metadata": {},
     "output_type": "execute_result"
    }
   ],
   "source": [
    "df_pass_usage = df_scenario1.groupby(['AgencyName', 'PassFlag']).count().reset_index()[['AgencyName', 'PassFlag', 'Year']].sort_values('Year', ascending=False)\n",
    "df_pass_usage"
   ]
  },
  {
   "cell_type": "code",
   "execution_count": 29,
   "metadata": {},
   "outputs": [
    {
     "data": {
      "text/html": [
       "<div>\n",
       "<style scoped>\n",
       "    .dataframe tbody tr th:only-of-type {\n",
       "        vertical-align: middle;\n",
       "    }\n",
       "\n",
       "    .dataframe tbody tr th {\n",
       "        vertical-align: top;\n",
       "    }\n",
       "\n",
       "    .dataframe thead th {\n",
       "        text-align: right;\n",
       "    }\n",
       "</style>\n",
       "<table border=\"1\" class=\"dataframe\">\n",
       "  <thead>\n",
       "    <tr style=\"text-align: right;\">\n",
       "      <th>PassFlag</th>\n",
       "      <th>AgencyName</th>\n",
       "      <th>SingleFares</th>\n",
       "      <th>PassFares</th>\n",
       "    </tr>\n",
       "  </thead>\n",
       "  <tbody>\n",
       "    <tr>\n",
       "      <th>0</th>\n",
       "      <td>AC Transit</td>\n",
       "      <td>243185</td>\n",
       "      <td>388830</td>\n",
       "    </tr>\n",
       "    <tr>\n",
       "      <th>1</th>\n",
       "      <td>BART</td>\n",
       "      <td>1937402</td>\n",
       "      <td>223460</td>\n",
       "    </tr>\n",
       "    <tr>\n",
       "      <th>2</th>\n",
       "      <td>Caltrain</td>\n",
       "      <td>93331</td>\n",
       "      <td>0</td>\n",
       "    </tr>\n",
       "    <tr>\n",
       "      <th>3</th>\n",
       "      <td>Golden Gate Ferry</td>\n",
       "      <td>66417</td>\n",
       "      <td>0</td>\n",
       "    </tr>\n",
       "    <tr>\n",
       "      <th>4</th>\n",
       "      <td>Golden Gate Transit</td>\n",
       "      <td>78894</td>\n",
       "      <td>0</td>\n",
       "    </tr>\n",
       "    <tr>\n",
       "      <th>5</th>\n",
       "      <td>Napa Solano</td>\n",
       "      <td>96</td>\n",
       "      <td>0</td>\n",
       "    </tr>\n",
       "    <tr>\n",
       "      <th>6</th>\n",
       "      <td>SF Muni</td>\n",
       "      <td>1176475</td>\n",
       "      <td>2023783</td>\n",
       "    </tr>\n",
       "    <tr>\n",
       "      <th>7</th>\n",
       "      <td>SamTrans</td>\n",
       "      <td>42409</td>\n",
       "      <td>111057</td>\n",
       "    </tr>\n",
       "    <tr>\n",
       "      <th>8</th>\n",
       "      <td>VTA</td>\n",
       "      <td>49910</td>\n",
       "      <td>422943</td>\n",
       "    </tr>\n",
       "    <tr>\n",
       "      <th>9</th>\n",
       "      <td>WETA</td>\n",
       "      <td>17438</td>\n",
       "      <td>0</td>\n",
       "    </tr>\n",
       "  </tbody>\n",
       "</table>\n",
       "</div>"
      ],
      "text/plain": [
       "PassFlag           AgencyName  SingleFares  PassFares\n",
       "0                  AC Transit       243185     388830\n",
       "1                        BART      1937402     223460\n",
       "2                    Caltrain        93331          0\n",
       "3           Golden Gate Ferry        66417          0\n",
       "4         Golden Gate Transit        78894          0\n",
       "5                 Napa Solano           96          0\n",
       "6                     SF Muni      1176475    2023783\n",
       "7                    SamTrans        42409     111057\n",
       "8                         VTA        49910     422943\n",
       "9                        WETA        17438          0"
      ]
     },
     "execution_count": 29,
     "metadata": {},
     "output_type": "execute_result"
    }
   ],
   "source": [
    "df_pass_usage = df_pass_usage.pivot(index='AgencyName', columns='PassFlag', values='Year').reset_index()\n",
    "df_pass_usage.fillna(0, inplace=True)\n",
    "df_pass_usage.rename(index=str, columns={False: \"SingleFares\", True: \"PassFares\"}, inplace=True)\n",
    "df_pass_usage['SingleFares'] = df_pass_usage['SingleFares'].astype('int')\n",
    "df_pass_usage['PassFares'] = df_pass_usage['PassFares'].astype('int')\n",
    "df_pass_usage"
   ]
  },
  {
   "cell_type": "code",
   "execution_count": 30,
   "metadata": {},
   "outputs": [],
   "source": [
    "df_ridership = pd.read_csv('data/annual_ridership.csv')"
   ]
  },
  {
   "cell_type": "code",
   "execution_count": 31,
   "metadata": {},
   "outputs": [
    {
     "data": {
      "text/html": [
       "<div>\n",
       "<style scoped>\n",
       "    .dataframe tbody tr th:only-of-type {\n",
       "        vertical-align: middle;\n",
       "    }\n",
       "\n",
       "    .dataframe tbody tr th {\n",
       "        vertical-align: top;\n",
       "    }\n",
       "\n",
       "    .dataframe thead th {\n",
       "        text-align: right;\n",
       "    }\n",
       "</style>\n",
       "<table border=\"1\" class=\"dataframe\">\n",
       "  <thead>\n",
       "    <tr style=\"text-align: right;\">\n",
       "      <th></th>\n",
       "      <th>AgencyName</th>\n",
       "      <th>SingleFares</th>\n",
       "      <th>PassFares</th>\n",
       "      <th>2014Ridership</th>\n",
       "    </tr>\n",
       "  </thead>\n",
       "  <tbody>\n",
       "    <tr>\n",
       "      <th>0</th>\n",
       "      <td>AC Transit</td>\n",
       "      <td>243185</td>\n",
       "      <td>388830</td>\n",
       "      <td>55235000</td>\n",
       "    </tr>\n",
       "    <tr>\n",
       "      <th>1</th>\n",
       "      <td>BART</td>\n",
       "      <td>1937402</td>\n",
       "      <td>223460</td>\n",
       "      <td>126603000</td>\n",
       "    </tr>\n",
       "    <tr>\n",
       "      <th>2</th>\n",
       "      <td>Caltrain</td>\n",
       "      <td>93331</td>\n",
       "      <td>0</td>\n",
       "      <td>15596000</td>\n",
       "    </tr>\n",
       "    <tr>\n",
       "      <th>3</th>\n",
       "      <td>Golden Gate Ferry</td>\n",
       "      <td>66417</td>\n",
       "      <td>0</td>\n",
       "      <td>2540691</td>\n",
       "    </tr>\n",
       "    <tr>\n",
       "      <th>4</th>\n",
       "      <td>Golden Gate Transit</td>\n",
       "      <td>78894</td>\n",
       "      <td>0</td>\n",
       "      <td>6662309</td>\n",
       "    </tr>\n",
       "    <tr>\n",
       "      <th>5</th>\n",
       "      <td>Napa Solano</td>\n",
       "      <td>96</td>\n",
       "      <td>0</td>\n",
       "      <td>550000</td>\n",
       "    </tr>\n",
       "    <tr>\n",
       "      <th>6</th>\n",
       "      <td>SF Muni</td>\n",
       "      <td>1176475</td>\n",
       "      <td>2023783</td>\n",
       "      <td>223701000</td>\n",
       "    </tr>\n",
       "    <tr>\n",
       "      <th>7</th>\n",
       "      <td>SamTrans</td>\n",
       "      <td>42409</td>\n",
       "      <td>111057</td>\n",
       "      <td>12446000</td>\n",
       "    </tr>\n",
       "    <tr>\n",
       "      <th>8</th>\n",
       "      <td>VTA</td>\n",
       "      <td>49910</td>\n",
       "      <td>422943</td>\n",
       "      <td>44244000</td>\n",
       "    </tr>\n",
       "    <tr>\n",
       "      <th>9</th>\n",
       "      <td>WETA</td>\n",
       "      <td>17438</td>\n",
       "      <td>0</td>\n",
       "      <td>607000</td>\n",
       "    </tr>\n",
       "  </tbody>\n",
       "</table>\n",
       "</div>"
      ],
      "text/plain": [
       "            AgencyName  SingleFares  PassFares  2014Ridership\n",
       "0           AC Transit       243185     388830       55235000\n",
       "1                 BART      1937402     223460      126603000\n",
       "2             Caltrain        93331          0       15596000\n",
       "3    Golden Gate Ferry        66417          0        2540691\n",
       "4  Golden Gate Transit        78894          0        6662309\n",
       "5          Napa Solano           96          0         550000\n",
       "6              SF Muni      1176475    2023783      223701000\n",
       "7             SamTrans        42409     111057       12446000\n",
       "8                  VTA        49910     422943       44244000\n",
       "9                 WETA        17438          0         607000"
      ]
     },
     "execution_count": 31,
     "metadata": {},
     "output_type": "execute_result"
    }
   ],
   "source": [
    "df_pass_usage = df_pass_usage.merge(df_ridership, on='AgencyName')\n",
    "df_pass_usage"
   ]
  },
  {
   "cell_type": "code",
   "execution_count": 32,
   "metadata": {},
   "outputs": [
    {
     "data": {
      "text/html": [
       "<div>\n",
       "<style scoped>\n",
       "    .dataframe tbody tr th:only-of-type {\n",
       "        vertical-align: middle;\n",
       "    }\n",
       "\n",
       "    .dataframe tbody tr th {\n",
       "        vertical-align: top;\n",
       "    }\n",
       "\n",
       "    .dataframe thead th {\n",
       "        text-align: right;\n",
       "    }\n",
       "</style>\n",
       "<table border=\"1\" class=\"dataframe\">\n",
       "  <thead>\n",
       "    <tr style=\"text-align: right;\">\n",
       "      <th></th>\n",
       "      <th>AgencyName</th>\n",
       "      <th>SingleFares</th>\n",
       "      <th>PassFares</th>\n",
       "      <th>2014Ridership</th>\n",
       "      <th>PeriodRidership</th>\n",
       "    </tr>\n",
       "  </thead>\n",
       "  <tbody>\n",
       "    <tr>\n",
       "      <th>0</th>\n",
       "      <td>AC Transit</td>\n",
       "      <td>243185</td>\n",
       "      <td>388830</td>\n",
       "      <td>55235000</td>\n",
       "      <td>3186634</td>\n",
       "    </tr>\n",
       "    <tr>\n",
       "      <th>1</th>\n",
       "      <td>BART</td>\n",
       "      <td>1937402</td>\n",
       "      <td>223460</td>\n",
       "      <td>126603000</td>\n",
       "      <td>7304019</td>\n",
       "    </tr>\n",
       "    <tr>\n",
       "      <th>2</th>\n",
       "      <td>Caltrain</td>\n",
       "      <td>93331</td>\n",
       "      <td>0</td>\n",
       "      <td>15596000</td>\n",
       "      <td>899769</td>\n",
       "    </tr>\n",
       "    <tr>\n",
       "      <th>3</th>\n",
       "      <td>Golden Gate Ferry</td>\n",
       "      <td>66417</td>\n",
       "      <td>0</td>\n",
       "      <td>2540691</td>\n",
       "      <td>146578</td>\n",
       "    </tr>\n",
       "    <tr>\n",
       "      <th>4</th>\n",
       "      <td>Golden Gate Transit</td>\n",
       "      <td>78894</td>\n",
       "      <td>0</td>\n",
       "      <td>6662309</td>\n",
       "      <td>384363</td>\n",
       "    </tr>\n",
       "    <tr>\n",
       "      <th>5</th>\n",
       "      <td>Napa Solano</td>\n",
       "      <td>96</td>\n",
       "      <td>0</td>\n",
       "      <td>550000</td>\n",
       "      <td>31730</td>\n",
       "    </tr>\n",
       "    <tr>\n",
       "      <th>6</th>\n",
       "      <td>SF Muni</td>\n",
       "      <td>1176475</td>\n",
       "      <td>2023783</td>\n",
       "      <td>223701000</td>\n",
       "      <td>12905826</td>\n",
       "    </tr>\n",
       "    <tr>\n",
       "      <th>7</th>\n",
       "      <td>SamTrans</td>\n",
       "      <td>42409</td>\n",
       "      <td>111057</td>\n",
       "      <td>12446000</td>\n",
       "      <td>718038</td>\n",
       "    </tr>\n",
       "    <tr>\n",
       "      <th>8</th>\n",
       "      <td>VTA</td>\n",
       "      <td>49910</td>\n",
       "      <td>422943</td>\n",
       "      <td>44244000</td>\n",
       "      <td>2552538</td>\n",
       "    </tr>\n",
       "    <tr>\n",
       "      <th>9</th>\n",
       "      <td>WETA</td>\n",
       "      <td>17438</td>\n",
       "      <td>0</td>\n",
       "      <td>607000</td>\n",
       "      <td>35019</td>\n",
       "    </tr>\n",
       "  </tbody>\n",
       "</table>\n",
       "</div>"
      ],
      "text/plain": [
       "            AgencyName  SingleFares  PassFares  2014Ridership  PeriodRidership\n",
       "0           AC Transit       243185     388830       55235000          3186634\n",
       "1                 BART      1937402     223460      126603000          7304019\n",
       "2             Caltrain        93331          0       15596000           899769\n",
       "3    Golden Gate Ferry        66417          0        2540691           146578\n",
       "4  Golden Gate Transit        78894          0        6662309           384363\n",
       "5          Napa Solano           96          0         550000            31730\n",
       "6              SF Muni      1176475    2023783      223701000         12905826\n",
       "7             SamTrans        42409     111057       12446000           718038\n",
       "8                  VTA        49910     422943       44244000          2552538\n",
       "9                 WETA        17438          0         607000            35019"
      ]
     },
     "execution_count": 32,
     "metadata": {},
     "output_type": "execute_result"
    }
   ],
   "source": [
    "df_pass_usage['PeriodRidership'] = (df_pass_usage['2014Ridership'] * 3/52).astype('int')\n",
    "df_pass_usage"
   ]
  },
  {
   "cell_type": "code",
   "execution_count": 40,
   "metadata": {},
   "outputs": [],
   "source": [
    "df_pass_usage['RidershipDataCoverage'] = (df_pass_usage['SingleFares'] + df_pass_usage['PassFares']) / df_pass_usage['PeriodRidership']"
   ]
  },
  {
   "cell_type": "code",
   "execution_count": 41,
   "metadata": {},
   "outputs": [
    {
     "data": {
      "text/html": [
       "<div>\n",
       "<style scoped>\n",
       "    .dataframe tbody tr th:only-of-type {\n",
       "        vertical-align: middle;\n",
       "    }\n",
       "\n",
       "    .dataframe tbody tr th {\n",
       "        vertical-align: top;\n",
       "    }\n",
       "\n",
       "    .dataframe thead th {\n",
       "        text-align: right;\n",
       "    }\n",
       "</style>\n",
       "<table border=\"1\" class=\"dataframe\">\n",
       "  <thead>\n",
       "    <tr style=\"text-align: right;\">\n",
       "      <th></th>\n",
       "      <th>AgencyName</th>\n",
       "      <th>SingleFares</th>\n",
       "      <th>PassFares</th>\n",
       "      <th>2014Ridership</th>\n",
       "      <th>PeriodRidership</th>\n",
       "      <th>PeriodClipperRidership</th>\n",
       "      <th>RidershipDataCoverage</th>\n",
       "    </tr>\n",
       "  </thead>\n",
       "  <tbody>\n",
       "    <tr>\n",
       "      <th>0</th>\n",
       "      <td>AC Transit</td>\n",
       "      <td>243185</td>\n",
       "      <td>388830</td>\n",
       "      <td>55235000</td>\n",
       "      <td>3186634</td>\n",
       "      <td>942751</td>\n",
       "      <td>0.198333</td>\n",
       "    </tr>\n",
       "    <tr>\n",
       "      <th>1</th>\n",
       "      <td>BART</td>\n",
       "      <td>1937402</td>\n",
       "      <td>223460</td>\n",
       "      <td>126603000</td>\n",
       "      <td>7304019</td>\n",
       "      <td>2160862</td>\n",
       "      <td>0.295846</td>\n",
       "    </tr>\n",
       "    <tr>\n",
       "      <th>2</th>\n",
       "      <td>Caltrain</td>\n",
       "      <td>93331</td>\n",
       "      <td>0</td>\n",
       "      <td>15596000</td>\n",
       "      <td>899769</td>\n",
       "      <td>266192</td>\n",
       "      <td>0.103728</td>\n",
       "    </tr>\n",
       "    <tr>\n",
       "      <th>3</th>\n",
       "      <td>Golden Gate Ferry</td>\n",
       "      <td>66417</td>\n",
       "      <td>0</td>\n",
       "      <td>2540691</td>\n",
       "      <td>146578</td>\n",
       "      <td>43364</td>\n",
       "      <td>0.453117</td>\n",
       "    </tr>\n",
       "    <tr>\n",
       "      <th>4</th>\n",
       "      <td>Golden Gate Transit</td>\n",
       "      <td>78894</td>\n",
       "      <td>0</td>\n",
       "      <td>6662309</td>\n",
       "      <td>384363</td>\n",
       "      <td>113712</td>\n",
       "      <td>0.205259</td>\n",
       "    </tr>\n",
       "    <tr>\n",
       "      <th>5</th>\n",
       "      <td>Napa Solano</td>\n",
       "      <td>96</td>\n",
       "      <td>0</td>\n",
       "      <td>550000</td>\n",
       "      <td>31730</td>\n",
       "      <td>9387</td>\n",
       "      <td>0.003026</td>\n",
       "    </tr>\n",
       "    <tr>\n",
       "      <th>6</th>\n",
       "      <td>SF Muni</td>\n",
       "      <td>1176475</td>\n",
       "      <td>2023783</td>\n",
       "      <td>223701000</td>\n",
       "      <td>12905826</td>\n",
       "      <td>3818132</td>\n",
       "      <td>0.247970</td>\n",
       "    </tr>\n",
       "    <tr>\n",
       "      <th>7</th>\n",
       "      <td>SamTrans</td>\n",
       "      <td>42409</td>\n",
       "      <td>111057</td>\n",
       "      <td>12446000</td>\n",
       "      <td>718038</td>\n",
       "      <td>212428</td>\n",
       "      <td>0.213730</td>\n",
       "    </tr>\n",
       "    <tr>\n",
       "      <th>8</th>\n",
       "      <td>VTA</td>\n",
       "      <td>49910</td>\n",
       "      <td>422943</td>\n",
       "      <td>44244000</td>\n",
       "      <td>2552538</td>\n",
       "      <td>755157</td>\n",
       "      <td>0.185248</td>\n",
       "    </tr>\n",
       "    <tr>\n",
       "      <th>9</th>\n",
       "      <td>WETA</td>\n",
       "      <td>17438</td>\n",
       "      <td>0</td>\n",
       "      <td>607000</td>\n",
       "      <td>35019</td>\n",
       "      <td>10360</td>\n",
       "      <td>0.497958</td>\n",
       "    </tr>\n",
       "  </tbody>\n",
       "</table>\n",
       "</div>"
      ],
      "text/plain": [
       "            AgencyName  SingleFares  PassFares  2014Ridership  \\\n",
       "0           AC Transit       243185     388830       55235000   \n",
       "1                 BART      1937402     223460      126603000   \n",
       "2             Caltrain        93331          0       15596000   \n",
       "3    Golden Gate Ferry        66417          0        2540691   \n",
       "4  Golden Gate Transit        78894          0        6662309   \n",
       "5          Napa Solano           96          0         550000   \n",
       "6              SF Muni      1176475    2023783      223701000   \n",
       "7             SamTrans        42409     111057       12446000   \n",
       "8                  VTA        49910     422943       44244000   \n",
       "9                 WETA        17438          0         607000   \n",
       "\n",
       "   PeriodRidership  PeriodClipperRidership  RidershipDataCoverage  \n",
       "0          3186634                  942751               0.198333  \n",
       "1          7304019                 2160862               0.295846  \n",
       "2           899769                  266192               0.103728  \n",
       "3           146578                   43364               0.453117  \n",
       "4           384363                  113712               0.205259  \n",
       "5            31730                    9387               0.003026  \n",
       "6         12905826                 3818132               0.247970  \n",
       "7           718038                  212428               0.213730  \n",
       "8          2552538                  755157               0.185248  \n",
       "9            35019                   10360               0.497958  "
      ]
     },
     "execution_count": 41,
     "metadata": {},
     "output_type": "execute_result"
    }
   ],
   "source": [
    "df_pass_usage"
   ]
  },
  {
   "cell_type": "code",
   "execution_count": 33,
   "metadata": {},
   "outputs": [
    {
     "data": {
      "text/plain": [
       "0.29584561595472303"
      ]
     },
     "execution_count": 33,
     "metadata": {},
     "output_type": "execute_result"
    }
   ],
   "source": [
    "df_bart = df_pass_usage[df_pass_usage['AgencyName']=='BART']\n",
    "clipper_adoption_rate = float((df_bart['SingleFares'] + df_bart['PassFares'])/df_bart['PeriodRidership'])\n",
    "clipper_adoption_rate"
   ]
  },
  {
   "cell_type": "code",
   "execution_count": 34,
   "metadata": {},
   "outputs": [
    {
     "data": {
      "text/html": [
       "<div>\n",
       "<style scoped>\n",
       "    .dataframe tbody tr th:only-of-type {\n",
       "        vertical-align: middle;\n",
       "    }\n",
       "\n",
       "    .dataframe tbody tr th {\n",
       "        vertical-align: top;\n",
       "    }\n",
       "\n",
       "    .dataframe thead th {\n",
       "        text-align: right;\n",
       "    }\n",
       "</style>\n",
       "<table border=\"1\" class=\"dataframe\">\n",
       "  <thead>\n",
       "    <tr style=\"text-align: right;\">\n",
       "      <th></th>\n",
       "      <th>AgencyName</th>\n",
       "      <th>SingleFares</th>\n",
       "      <th>PassFares</th>\n",
       "      <th>2014Ridership</th>\n",
       "      <th>PeriodRidership</th>\n",
       "      <th>PeriodClipperRidership</th>\n",
       "    </tr>\n",
       "  </thead>\n",
       "  <tbody>\n",
       "    <tr>\n",
       "      <th>0</th>\n",
       "      <td>AC Transit</td>\n",
       "      <td>243185</td>\n",
       "      <td>388830</td>\n",
       "      <td>55235000</td>\n",
       "      <td>3186634</td>\n",
       "      <td>942751</td>\n",
       "    </tr>\n",
       "    <tr>\n",
       "      <th>1</th>\n",
       "      <td>BART</td>\n",
       "      <td>1937402</td>\n",
       "      <td>223460</td>\n",
       "      <td>126603000</td>\n",
       "      <td>7304019</td>\n",
       "      <td>2160862</td>\n",
       "    </tr>\n",
       "    <tr>\n",
       "      <th>2</th>\n",
       "      <td>Caltrain</td>\n",
       "      <td>93331</td>\n",
       "      <td>0</td>\n",
       "      <td>15596000</td>\n",
       "      <td>899769</td>\n",
       "      <td>266192</td>\n",
       "    </tr>\n",
       "    <tr>\n",
       "      <th>3</th>\n",
       "      <td>Golden Gate Ferry</td>\n",
       "      <td>66417</td>\n",
       "      <td>0</td>\n",
       "      <td>2540691</td>\n",
       "      <td>146578</td>\n",
       "      <td>43364</td>\n",
       "    </tr>\n",
       "    <tr>\n",
       "      <th>4</th>\n",
       "      <td>Golden Gate Transit</td>\n",
       "      <td>78894</td>\n",
       "      <td>0</td>\n",
       "      <td>6662309</td>\n",
       "      <td>384363</td>\n",
       "      <td>113712</td>\n",
       "    </tr>\n",
       "    <tr>\n",
       "      <th>5</th>\n",
       "      <td>Napa Solano</td>\n",
       "      <td>96</td>\n",
       "      <td>0</td>\n",
       "      <td>550000</td>\n",
       "      <td>31730</td>\n",
       "      <td>9387</td>\n",
       "    </tr>\n",
       "    <tr>\n",
       "      <th>6</th>\n",
       "      <td>SF Muni</td>\n",
       "      <td>1176475</td>\n",
       "      <td>2023783</td>\n",
       "      <td>223701000</td>\n",
       "      <td>12905826</td>\n",
       "      <td>3818132</td>\n",
       "    </tr>\n",
       "    <tr>\n",
       "      <th>7</th>\n",
       "      <td>SamTrans</td>\n",
       "      <td>42409</td>\n",
       "      <td>111057</td>\n",
       "      <td>12446000</td>\n",
       "      <td>718038</td>\n",
       "      <td>212428</td>\n",
       "    </tr>\n",
       "    <tr>\n",
       "      <th>8</th>\n",
       "      <td>VTA</td>\n",
       "      <td>49910</td>\n",
       "      <td>422943</td>\n",
       "      <td>44244000</td>\n",
       "      <td>2552538</td>\n",
       "      <td>755157</td>\n",
       "    </tr>\n",
       "    <tr>\n",
       "      <th>9</th>\n",
       "      <td>WETA</td>\n",
       "      <td>17438</td>\n",
       "      <td>0</td>\n",
       "      <td>607000</td>\n",
       "      <td>35019</td>\n",
       "      <td>10360</td>\n",
       "    </tr>\n",
       "  </tbody>\n",
       "</table>\n",
       "</div>"
      ],
      "text/plain": [
       "            AgencyName  SingleFares  PassFares  2014Ridership  \\\n",
       "0           AC Transit       243185     388830       55235000   \n",
       "1                 BART      1937402     223460      126603000   \n",
       "2             Caltrain        93331          0       15596000   \n",
       "3    Golden Gate Ferry        66417          0        2540691   \n",
       "4  Golden Gate Transit        78894          0        6662309   \n",
       "5          Napa Solano           96          0         550000   \n",
       "6              SF Muni      1176475    2023783      223701000   \n",
       "7             SamTrans        42409     111057       12446000   \n",
       "8                  VTA        49910     422943       44244000   \n",
       "9                 WETA        17438          0         607000   \n",
       "\n",
       "   PeriodRidership  PeriodClipperRidership  \n",
       "0          3186634                  942751  \n",
       "1          7304019                 2160862  \n",
       "2           899769                  266192  \n",
       "3           146578                   43364  \n",
       "4           384363                  113712  \n",
       "5            31730                    9387  \n",
       "6         12905826                 3818132  \n",
       "7           718038                  212428  \n",
       "8          2552538                  755157  \n",
       "9            35019                   10360  "
      ]
     },
     "execution_count": 34,
     "metadata": {},
     "output_type": "execute_result"
    }
   ],
   "source": [
    "df_pass_usage['PeriodClipperRidership'] = (df_pass_usage['PeriodRidership'] * clipper_adoption_rate).astype('int')\n",
    "df_pass_usage"
   ]
  },
  {
   "cell_type": "code",
   "execution_count": 35,
   "metadata": {},
   "outputs": [
    {
     "data": {
      "text/plain": [
       "0    310736\n",
       "1         0\n",
       "2    172861\n",
       "3    -23053\n",
       "4     34818\n",
       "5      9291\n",
       "6    617874\n",
       "7     58962\n",
       "8    282304\n",
       "9     -7078\n",
       "dtype: int64"
      ]
     },
     "execution_count": 35,
     "metadata": {},
     "output_type": "execute_result"
    }
   ],
   "source": [
    "df_pass_usage['PeriodClipperRidership'] - df_pass_usage['SingleFares'] - df_pass_usage['PassFares']"
   ]
  },
  {
   "cell_type": "code",
   "execution_count": null,
   "metadata": {},
   "outputs": [],
   "source": []
  },
  {
   "cell_type": "code",
   "execution_count": null,
   "metadata": {},
   "outputs": [],
   "source": []
  },
  {
   "cell_type": "code",
   "execution_count": null,
   "metadata": {},
   "outputs": [],
   "source": []
  }
 ],
 "metadata": {
  "kernelspec": {
   "display_name": "Python 3",
   "language": "python",
   "name": "python3"
  },
  "language_info": {
   "codemirror_mode": {
    "name": "ipython",
    "version": 3
   },
   "file_extension": ".py",
   "mimetype": "text/x-python",
   "name": "python",
   "nbconvert_exporter": "python",
   "pygments_lexer": "ipython3",
   "version": "3.6.5"
  }
 },
 "nbformat": 4,
 "nbformat_minor": 2
}
