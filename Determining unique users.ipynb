{
 "cells": [
  {
   "cell_type": "code",
   "execution_count": null,
   "metadata": {},
   "outputs": [],
   "source": [
    "import pandas as pd\n",
    "import numpy as np\n",
    "import matplotlib.pyplot as plt"
   ]
  },
  {
   "cell_type": "code",
   "execution_count": null,
   "metadata": {},
   "outputs": [],
   "source": [
    "df = pd.read_csv('data/2014_-_9_Anonymous_Clipper.csv')"
   ]
  },
  {
   "cell_type": "code",
   "execution_count": null,
   "metadata": {},
   "outputs": [],
   "source": [
    "#Strip the column names of white space\n",
    "for col in ['AgencyName', 'PaymentProductName', 'RouteName']:\n",
    "    df[col] = df[col].str.strip()"
   ]
  },
  {
   "cell_type": "code",
   "execution_count": null,
   "metadata": {},
   "outputs": [],
   "source": [
    "#Convert time to floats\n",
    "df['TagOnTime_Time'] = pd.to_timedelta(df['TagOnTime_Time'])/pd.offsets.Hour(1)\n",
    "df['TagOffTime_Time'] = pd.to_timedelta(df['TagOffTime_Time'])/pd.offsets.Hour(1)"
   ]
  },
  {
   "cell_type": "code",
   "execution_count": null,
   "metadata": {},
   "outputs": [],
   "source": [
    "#Drop unneeded columns\n",
    "df.drop(columns=['Year',\n",
    "                 'Month',\n",
    "                 'CircadianDayOfWeek_Name',\n",
    "                 'AgencyName',\n",
    "                 'PaymentProductName',\n",
    "                 'TagOnLocationName',\n",
    "                 'RouteName',\n",
    "                 'TagOffLocationName'], inplace=True)"
   ]
  },
  {
   "cell_type": "code",
   "execution_count": null,
   "metadata": {},
   "outputs": [],
   "source": [
    "df.info()"
   ]
  },
  {
   "cell_type": "code",
   "execution_count": null,
   "metadata": {},
   "outputs": [],
   "source": [
    "#Create aggregation function dictionary\n",
    "agg_funcs = {}\n",
    "for col in df.columns:\n",
    "    if col == 'TagOnTime_Time':\n",
    "        agg_funcs[col] = 'min'\n",
    "    elif col in ('TripSequenceID', 'TagOffTime_Time'):\n",
    "        agg_funcs[col] = 'max'\n",
    "    elif col not in ('CircadianDayOfWeek', 'RandomWeekID', 'ClipperCardID'):\n",
    "        agg_funcs[col] = 'sum'"
   ]
  },
  {
   "cell_type": "code",
   "execution_count": null,
   "metadata": {},
   "outputs": [],
   "source": [
    "df = df.groupby(['CircadianDayOfWeek', 'RandomWeekID', 'ClipperCardID']).agg(agg_funcs).reset_index()"
   ]
  },
  {
   "cell_type": "code",
   "execution_count": null,
   "metadata": {},
   "outputs": [],
   "source": [
    "#Fill NaNs\n",
    "df['TagOffLocationID'] = df['TagOffLocationID'].fillna(0)\n",
    "df['TagOffTime_Time'] = df['TagOffTime_Time'].fillna(0)\n",
    "df['TagOffLocationID'] = df['TagOffLocationID'].astype('int')"
   ]
  },
  {
   "cell_type": "code",
   "execution_count": null,
   "metadata": {},
   "outputs": [],
   "source": [
    "df.head()"
   ]
  },
  {
   "cell_type": "code",
   "execution_count": null,
   "metadata": {},
   "outputs": [],
   "source": [
    "df.to_csv('data/train.csv', index=False)"
   ]
  },
  {
   "cell_type": "code",
   "execution_count": 127,
   "metadata": {},
   "outputs": [],
   "source": [
    "import pandas as pd\n",
    "import numpy as np\n",
    "import matplotlib.pyplot as plt\n",
    "from sklearn.metrics.pairwise import euclidean_distances"
   ]
  },
  {
   "cell_type": "code",
   "execution_count": 138,
   "metadata": {},
   "outputs": [],
   "source": [
    "df = pd.read_csv('data/train.csv')"
   ]
  },
  {
   "cell_type": "code",
   "execution_count": 139,
   "metadata": {},
   "outputs": [
    {
     "data": {
      "text/html": [
       "<div>\n",
       "<style scoped>\n",
       "    .dataframe tbody tr th:only-of-type {\n",
       "        vertical-align: middle;\n",
       "    }\n",
       "\n",
       "    .dataframe tbody tr th {\n",
       "        vertical-align: top;\n",
       "    }\n",
       "\n",
       "    .dataframe thead th {\n",
       "        text-align: right;\n",
       "    }\n",
       "</style>\n",
       "<table border=\"1\" class=\"dataframe\">\n",
       "  <thead>\n",
       "    <tr style=\"text-align: right;\">\n",
       "      <th></th>\n",
       "      <th>CircadianDayOfWeek</th>\n",
       "      <th>RandomWeekID</th>\n",
       "      <th>ClipperCardID</th>\n",
       "      <th>TripSequenceID</th>\n",
       "      <th>AgencyID</th>\n",
       "      <th>PaymentProductID</th>\n",
       "      <th>FareAmount</th>\n",
       "      <th>TagOnTime_Time</th>\n",
       "      <th>TagOnLocationID</th>\n",
       "      <th>RouteID</th>\n",
       "      <th>TagOffTime_Time</th>\n",
       "      <th>TagOffLocationID</th>\n",
       "    </tr>\n",
       "  </thead>\n",
       "  <tbody>\n",
       "    <tr>\n",
       "      <th>0</th>\n",
       "      <td>1</td>\n",
       "      <td>6</td>\n",
       "      <td>00003C685DF3C97ECB76596252C378E749BE93C8</td>\n",
       "      <td>5</td>\n",
       "      <td>90</td>\n",
       "      <td>2515</td>\n",
       "      <td>0.00</td>\n",
       "      <td>5.833333</td>\n",
       "      <td>0</td>\n",
       "      <td>688</td>\n",
       "      <td>0.0</td>\n",
       "      <td>0</td>\n",
       "    </tr>\n",
       "    <tr>\n",
       "      <th>1</th>\n",
       "      <td>1</td>\n",
       "      <td>6</td>\n",
       "      <td>0002C67294C466CB63DAD7EFCA043CA71EF69EB9</td>\n",
       "      <td>1</td>\n",
       "      <td>18</td>\n",
       "      <td>531</td>\n",
       "      <td>0.00</td>\n",
       "      <td>17.833333</td>\n",
       "      <td>11</td>\n",
       "      <td>0</td>\n",
       "      <td>0.0</td>\n",
       "      <td>0</td>\n",
       "    </tr>\n",
       "    <tr>\n",
       "      <th>2</th>\n",
       "      <td>1</td>\n",
       "      <td>6</td>\n",
       "      <td>0004D97D359676F2DD49726ABDDD5A0393BE4096</td>\n",
       "      <td>1</td>\n",
       "      <td>18</td>\n",
       "      <td>0</td>\n",
       "      <td>2.25</td>\n",
       "      <td>17.000000</td>\n",
       "      <td>0</td>\n",
       "      <td>138</td>\n",
       "      <td>0.0</td>\n",
       "      <td>0</td>\n",
       "    </tr>\n",
       "    <tr>\n",
       "      <th>3</th>\n",
       "      <td>1</td>\n",
       "      <td>6</td>\n",
       "      <td>00058666BC31BEBB900FC23C42DDC81E86A6A30B</td>\n",
       "      <td>1</td>\n",
       "      <td>18</td>\n",
       "      <td>514</td>\n",
       "      <td>0.00</td>\n",
       "      <td>12.666667</td>\n",
       "      <td>0</td>\n",
       "      <td>138</td>\n",
       "      <td>0.0</td>\n",
       "      <td>0</td>\n",
       "    </tr>\n",
       "    <tr>\n",
       "      <th>4</th>\n",
       "      <td>1</td>\n",
       "      <td>6</td>\n",
       "      <td>00061A5B9BD884C03449852E83C5E29DB4C34631</td>\n",
       "      <td>1</td>\n",
       "      <td>4</td>\n",
       "      <td>0</td>\n",
       "      <td>5.95</td>\n",
       "      <td>15.333333</td>\n",
       "      <td>39</td>\n",
       "      <td>0</td>\n",
       "      <td>16.5</td>\n",
       "      <td>8</td>\n",
       "    </tr>\n",
       "  </tbody>\n",
       "</table>\n",
       "</div>"
      ],
      "text/plain": [
       "   CircadianDayOfWeek  RandomWeekID                             ClipperCardID  \\\n",
       "0                   1             6  00003C685DF3C97ECB76596252C378E749BE93C8   \n",
       "1                   1             6  0002C67294C466CB63DAD7EFCA043CA71EF69EB9   \n",
       "2                   1             6  0004D97D359676F2DD49726ABDDD5A0393BE4096   \n",
       "3                   1             6  00058666BC31BEBB900FC23C42DDC81E86A6A30B   \n",
       "4                   1             6  00061A5B9BD884C03449852E83C5E29DB4C34631   \n",
       "\n",
       "   TripSequenceID  AgencyID  PaymentProductID  FareAmount  TagOnTime_Time  \\\n",
       "0               5        90              2515        0.00        5.833333   \n",
       "1               1        18               531        0.00       17.833333   \n",
       "2               1        18                 0        2.25       17.000000   \n",
       "3               1        18               514        0.00       12.666667   \n",
       "4               1         4                 0        5.95       15.333333   \n",
       "\n",
       "   TagOnLocationID  RouteID  TagOffTime_Time  TagOffLocationID  \n",
       "0                0      688              0.0                 0  \n",
       "1               11        0              0.0                 0  \n",
       "2                0      138              0.0                 0  \n",
       "3                0      138              0.0                 0  \n",
       "4               39        0             16.5                 8  "
      ]
     },
     "execution_count": 139,
     "metadata": {},
     "output_type": "execute_result"
    }
   ],
   "source": [
    "df.head()"
   ]
  },
  {
   "cell_type": "code",
   "execution_count": 140,
   "metadata": {},
   "outputs": [],
   "source": [
    "#Normalize data\n",
    "for col in df.columns:\n",
    "    if col not in ('CircadianDayOfWeek', 'RandomWeekID', 'ClipperCardID'):\n",
    "        df[col] = df[col]/df[col].max()"
   ]
  },
  {
   "cell_type": "code",
   "execution_count": null,
   "metadata": {},
   "outputs": [],
   "source": []
  },
  {
   "cell_type": "code",
   "execution_count": 141,
   "metadata": {},
   "outputs": [
    {
     "data": {
      "text/plain": [
       "array([[<matplotlib.axes._subplots.AxesSubplot object at 0x17b4eda90>]],\n",
       "      dtype=object)"
      ]
     },
     "execution_count": 141,
     "metadata": {},
     "output_type": "execute_result"
    },
    {
     "data": {
      "image/png": "[encoded data removed]",
      "text/plain": [
       "<Figure size 432x288 with 1 Axes>"
      ]
     },
     "metadata": {},
     "output_type": "display_data"
    }
   ],
   "source": [
    "df[(df['CircadianDayOfWeek']==4) & (df['RandomWeekID']==8)][['TagOffTime_Time']].hist(bins=25)"
   ]
  },
  {
   "cell_type": "code",
   "execution_count": null,
   "metadata": {},
   "outputs": [],
   "source": []
  },
  {
   "cell_type": "code",
   "execution_count": 142,
   "metadata": {},
   "outputs": [],
   "source": [
    "df_baseline = df[(df['CircadianDayOfWeek']==4) & (df['RandomWeekID']==8)]"
   ]
  },
  {
   "cell_type": "code",
   "execution_count": 143,
   "metadata": {},
   "outputs": [],
   "source": [
    "df = df[~((df['CircadianDayOfWeek']==4) & (df['RandomWeekID']==8))]"
   ]
  },
  {
   "cell_type": "code",
   "execution_count": 144,
   "metadata": {},
   "outputs": [],
   "source": [
    "#Drop uneeded columns\n",
    "df_baseline.drop(columns=['CircadianDayOfWeek', 'RandomWeekID'], inplace=True)"
   ]
  },
  {
   "cell_type": "code",
   "execution_count": 145,
   "metadata": {},
   "outputs": [],
   "source": [
    "#Reset indexes\n",
    "df_baseline.reset_index(drop=True, inplace=True)\n",
    "df.reset_index(drop=True, inplace=True)"
   ]
  },
  {
   "cell_type": "code",
   "execution_count": 147,
   "metadata": {},
   "outputs": [],
   "source": [
    "#Pop Clipper ID\n",
    "df_baseline_IDs = df_baseline.pop('ClipperCardID')"
   ]
  },
  {
   "cell_type": "code",
   "execution_count": 150,
   "metadata": {},
   "outputs": [],
   "source": [
    "df_baseline_IDs = df_baseline_IDs.reset_index()"
   ]
  },
  {
   "cell_type": "code",
   "execution_count": 153,
   "metadata": {},
   "outputs": [],
   "source": [
    "df_baseline_IDs.rename(index=str, columns={'index': 'UserID'}, inplace=True)"
   ]
  },
  {
   "cell_type": "code",
   "execution_count": 80,
   "metadata": {},
   "outputs": [],
   "source": [
    "feature_cols = ['TripSequenceID', 'AgencyID', 'PaymentProductID', 'FareAmount',\n",
    "        'TagOnTime_Time', 'TagOnLocationID', 'RouteID', 'TagOffTime_Time',\n",
    "        'TagOffLocationID']"
   ]
  },
  {
   "cell_type": "code",
   "execution_count": 195,
   "metadata": {},
   "outputs": [],
   "source": [
    "def assign_users(group):\n",
    "    print (\"Starting CircadianDayOfWeek {}, RandomWeekID {}\".format(int(group['CircadianDayOfWeek'].unique()),\n",
    "                                                                    int(group['RandomWeekID'].unique())))\n",
    "    #In the baseline array, the index is the UserID\n",
    "    X = df_baseline.copy()\n",
    "    user_ids = []\n",
    "    for i, row in group.iterrows():\n",
    "        #Calculate distances in feature space\n",
    "        d = euclidean_distances(X, [row[feature_cols]])\n",
    "        \n",
    "        #Get row number of closest item\n",
    "        row_number = np.argmin(d)\n",
    "        \n",
    "        #Get user ID from row\n",
    "        user_id = X.iloc[row_number].name\n",
    "        \n",
    "        #print(\"Row {}: ClipperCardID {} matched to UserID {}\".format(i, row['ClipperCardID'], user_id))\n",
    "        \n",
    "        #Add UserID to return array\n",
    "        user_ids.append(user_id)\n",
    "        \n",
    "        #Drop row with this UserID so we can't assign it again\n",
    "        X.drop(user_id, inplace=True)\n",
    "        \n",
    "    return pd.DataFrame({'UserID': np.array(user_ids), 'ClipperCardID': group['ClipperCardID']})"
   ]
  },
  {
   "cell_type": "code",
   "execution_count": null,
   "metadata": {},
   "outputs": [],
   "source": []
  },
  {
   "cell_type": "code",
   "execution_count": 196,
   "metadata": {},
   "outputs": [
    {
     "name": "stdout",
     "output_type": "stream",
     "text": [
      "Starting CircadianDayOfWeek 1, RandomWeekID 6\n",
      "Starting CircadianDayOfWeek 1, RandomWeekID 6\n",
      "Starting CircadianDayOfWeek 1, RandomWeekID 7\n",
      "Starting CircadianDayOfWeek 1, RandomWeekID 8\n",
      "Starting CircadianDayOfWeek 2, RandomWeekID 6\n",
      "Starting CircadianDayOfWeek 2, RandomWeekID 7\n",
      "Starting CircadianDayOfWeek 2, RandomWeekID 8\n",
      "Starting CircadianDayOfWeek 3, RandomWeekID 6\n",
      "Starting CircadianDayOfWeek 3, RandomWeekID 7\n",
      "Starting CircadianDayOfWeek 3, RandomWeekID 8\n",
      "Starting CircadianDayOfWeek 4, RandomWeekID 6\n",
      "Starting CircadianDayOfWeek 4, RandomWeekID 7\n",
      "Starting CircadianDayOfWeek 5, RandomWeekID 6\n",
      "Starting CircadianDayOfWeek 5, RandomWeekID 7\n",
      "Starting CircadianDayOfWeek 5, RandomWeekID 8\n",
      "Starting CircadianDayOfWeek 6, RandomWeekID 6\n",
      "Starting CircadianDayOfWeek 6, RandomWeekID 7\n",
      "Starting CircadianDayOfWeek 6, RandomWeekID 8\n",
      "Starting CircadianDayOfWeek 7, RandomWeekID 6\n",
      "Starting CircadianDayOfWeek 7, RandomWeekID 7\n",
      "Starting CircadianDayOfWeek 7, RandomWeekID 8\n"
     ]
    }
   ],
   "source": [
    "df_results = df.groupby(['CircadianDayOfWeek', 'RandomWeekID']).apply(assign_users)"
   ]
  },
  {
   "cell_type": "code",
   "execution_count": 203,
   "metadata": {},
   "outputs": [],
   "source": [
    "#Recombine to for Clipper/user ID lookup\n",
    "df_clipper_users = pd.concat([df_baseline_IDs, df_results])"
   ]
  },
  {
   "cell_type": "code",
   "execution_count": 205,
   "metadata": {},
   "outputs": [],
   "source": [
    "df_clipper_users = df_clipper_users[['ClipperCardID', 'UserID']]"
   ]
  },
  {
   "cell_type": "code",
   "execution_count": 210,
   "metadata": {},
   "outputs": [],
   "source": [
    "df_clipper_users.sort_values('ClipperCardID', inplace=True)"
   ]
  },
  {
   "cell_type": "code",
   "execution_count": 211,
   "metadata": {},
   "outputs": [],
   "source": [
    "df_clipper_users.to_csv('data/clipper_users.csv', index=False)"
   ]
  },
  {
   "cell_type": "code",
   "execution_count": 224,
   "metadata": {},
   "outputs": [
    {
     "data": {
      "text/plain": [
       "ClipperCardID    17.20625\n",
       "dtype: float64"
      ]
     },
     "execution_count": 224,
     "metadata": {},
     "output_type": "execute_result"
    }
   ],
   "source": [
    "df_clipper_users.groupby('UserID').count().hist(bins=19)"
   ]
  },
  {
   "cell_type": "code",
   "execution_count": null,
   "metadata": {},
   "outputs": [],
   "source": []
  }
 ],
 "metadata": {
  "kernelspec": {
   "display_name": "Python 3",
   "language": "python",
   "name": "python3"
  },
  "language_info": {
   "codemirror_mode": {
    "name": "ipython",
    "version": 3
   },
   "file_extension": ".py",
   "mimetype": "text/x-python",
   "name": "python",
   "nbconvert_exporter": "python",
   "pygments_lexer": "ipython3",
   "version": "3.6.5"
  }
 },
 "nbformat": 4,
 "nbformat_minor": 2
}
